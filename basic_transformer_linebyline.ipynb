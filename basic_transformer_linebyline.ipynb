{
 "metadata": {
  "language_info": {
   "codemirror_mode": {
    "name": "ipython",
    "version": 3
   },
   "file_extension": ".py",
   "mimetype": "text/x-python",
   "name": "python",
   "nbconvert_exporter": "python",
   "pygments_lexer": "ipython3",
   "version": "3.8.8"
  },
  "orig_nbformat": 4,
  "kernelspec": {
   "name": "python3",
   "display_name": "Python 3.8.8 64-bit ('test': conda)"
  },
  "interpreter": {
   "hash": "d3773b654528d79880d3e2b33a682f0f55f4d8370c8ead39985baabf4eb4f1db"
  }
 },
 "nbformat": 4,
 "nbformat_minor": 2,
 "cells": [
  {
   "cell_type": "code",
   "execution_count": 28,
   "metadata": {},
   "outputs": [],
   "source": [
    "import torch\n",
    "from torchtext.datasets import WikiText2\n",
    "from torchtext.data.utils import get_tokenizer\n",
    "from torchtext.vocab import build_vocab_from_iterator\n",
    "\n",
    "train_iter = WikiText2(split='train')\n",
    "tokenizer = get_tokenizer('basic_english')\n",
    "vocab = build_vocab_from_iterator(map(tokenizer, train_iter), specials=[\"<unk>\"])\n",
    "vocab.set_default_index(vocab[\"<unk>\"])\n",
    "\n",
    "def data_process(raw_text_iter):\n",
    "  data = [torch.tensor(vocab(tokenizer(item)), dtype=torch.long) for item in raw_text_iter]\n",
    "  return torch.cat(tuple(filter(lambda t: t.numel() > 0, data)))\n",
    "\n",
    "train_iter, val_iter, test_iter = WikiText2()\n",
    "train_data = data_process(train_iter)\n",
    "val_data = data_process(val_iter)\n",
    "test_data = data_process(test_iter)\n",
    "device = torch.device(\"cuda\" if torch.cuda.is_available() else \"cpu\")"
   ]
  },
  {
   "cell_type": "code",
   "execution_count": 29,
   "metadata": {},
   "outputs": [
    {
     "output_type": "execute_result",
     "data": {
      "text/plain": [
       "tensor([   9, 3849, 3869,  ..., 2442, 4810,    3])"
      ]
     },
     "metadata": {},
     "execution_count": 29
    }
   ],
   "source": [
    "train_data"
   ]
  },
  {
   "source": [
    "* narrow 역할\n",
    "    * 깔끔하게 나누어 떨어지지 않는 추가적인 부분(나머지들) 은 잘라냅니다."
   ],
   "cell_type": "markdown",
   "metadata": {}
  },
  {
   "cell_type": "code",
   "execution_count": 32,
   "metadata": {},
   "outputs": [],
   "source": [
    "# bsz = 11\n",
    "# nbatch = train_data.size(0) // bsz\n",
    "# print(train_data.shape)\n",
    "# train_data = train_data.narrow(0, 0, nbatch * bsz)\n",
    "# print(train_data.shape)\n",
    "# train_data.view(bsz,-1).t().contiguous()"
   ]
  },
  {
   "cell_type": "code",
   "execution_count": 33,
   "metadata": {},
   "outputs": [],
   "source": [
    "def batchify(data, bsz):\n",
    "    # 데이터셋을 bsz 파트들로 나눕니다.\n",
    "    nbatch = data.size(0) // bsz\n",
    "    # 깔끔하게 나누어 떨어지지 않는 추가적인 부분(나머지들) 은 잘라냅니다.\n",
    "    data = data.narrow(0, 0, nbatch * bsz)\n",
    "    # 데이터에 대하여 bsz 배치들로 동등하게 나눕니다.\n",
    "    data = data.view(bsz, -1).t().contiguous()\n",
    "    return data.to(device)\n",
    "\n",
    "batch_size = 20\n",
    "eval_batch_size = 10\n",
    "train_data = batchify(train_data, batch_size)\n",
    "val_data = batchify(val_data, eval_batch_size)\n",
    "test_data = batchify(test_data, eval_batch_size)"
   ]
  },
  {
   "cell_type": "code",
   "execution_count": 34,
   "metadata": {},
   "outputs": [
    {
     "output_type": "execute_result",
     "data": {
      "text/plain": [
       "tensor([[    9,    59,   564,  ..., 11652,  2435,     1],\n",
       "        [ 3849,    12,   300,  ...,    47,    30,  1990],\n",
       "        [ 3869,   315,    19,  ...,    97,  7720,     4],\n",
       "        ...,\n",
       "        [  587,  4011,    59,  ...,     1,  1439, 12313],\n",
       "        [ 4987,    29,     4,  ...,  3165, 17106,  2060],\n",
       "        [    6,     8,     1,  ...,    62,    18,     2]])"
      ]
     },
     "metadata": {},
     "execution_count": 34
    }
   ],
   "source": [
    "train_data"
   ]
  },
  {
   "source": [
    "* get_batch() \n",
    "    * 함수는 트랜스포머 모델을 위한 입력과 타겟 시퀀스를 생성합니다. \n",
    "    * 이 함수는 소스 데이터를 bptt 길이를 가진 덩어리로 세분화 합니다. \n",
    "    * 언어 모델링 과제를 위해서, 모델은 다음 단어인 Target 이 필요 합니다. \n",
    "    * 예를 들어, bptt 의 값이 2 라면, 우리는 i = 0 일 때 다음의 2 개의 변수(Variable) 를 얻을 수 있습니다\n"
   ],
   "cell_type": "markdown",
   "metadata": {}
  },
  {
   "source": [
    "* BPTT\n",
    "    * BPTT를 통해 RNN의 가중치 행렬의 미분을 계산해보면 아래와 같이 최종적으로 미분의 곱으로 이루어진 항이 계산된다\n",
    "    * 시퀀스 길이가 길어지는 경우 BPTT가 불안정해지므로 길이를 끊는 것이 필요하다. 이 방법을 Truncated BPTT라고 부른다.\n",
    "    "
   ],
   "cell_type": "markdown",
   "metadata": {}
  },
  {
   "cell_type": "code",
   "execution_count": 103,
   "metadata": {},
   "outputs": [
    {
     "output_type": "execute_result",
     "data": {
      "text/plain": [
       "(tensor([[    9,    59,   564,   223,   443, 13627,     2,   539,  2872,  2464,\n",
       "              0,   313,  4513,     1,     5,    47,    66, 11652,  2435,     1]]),\n",
       " tensor([[ 3849,    12,   300,  6302,  3989,  1930, 10559,   451,     4,     7,\n",
       "              2,  1511, 10115,   942,  2439,   572,     1,    47,    30,  1990]]))"
      ]
     },
     "metadata": {},
     "execution_count": 103
    }
   ],
   "source": [
    "bptt = 35\n",
    "def get_batch(source, i):\n",
    "    seq_len = min(bptt, len(source) - 1 - i)\n",
    "    data = source[i:i+seq_len]\n",
    "    target = source[i+1:i+1+seq_len] # .reshape(-1)\n",
    "    return data, target\n",
    "\n",
    "bptt_list  = [i for batch, i in enumerate(range(0, train_data.size(0) - 1, bptt))]\n",
    "train_data[0:0+1] , train_data[0+1:0+1+1]\n",
    "#get_batch(train_data , bptt_list[0])"
   ]
  },
  {
   "cell_type": "code",
   "execution_count": 104,
   "metadata": {},
   "outputs": [
    {
     "output_type": "execute_result",
     "data": {
      "text/plain": [
       "tensor([[    9,    59,   564,  ..., 11652,  2435,     1],\n",
       "        [ 3849,    12,   300,  ...,    47,    30,  1990],\n",
       "        [ 3869,   315,    19,  ...,    97,  7720,     4],\n",
       "        ...,\n",
       "        [  587,  4011,    59,  ...,     1,  1439, 12313],\n",
       "        [ 4987,    29,     4,  ...,  3165, 17106,  2060],\n",
       "        [    6,     8,     1,  ...,    62,    18,     2]])"
      ]
     },
     "metadata": {},
     "execution_count": 104
    }
   ],
   "source": [
    "train_data"
   ]
  },
  {
   "cell_type": "code",
   "execution_count": 105,
   "metadata": {},
   "outputs": [],
   "source": [
    "ntokens = len(vocab) # the size of vocabulary\n",
    "emsize = 200 # embedding dimension\n",
    "nhid = 200 # the dimension of the feedforward network model in nn.TransformerEncoder\n",
    "nlayers = 2 # the number of nn.TransformerEncoderLayer in nn.TransformerEncoder\n",
    "nhead = 2 # the number of heads in the multiheadattention models\n",
    "dropout = 0.2 # the dropout value"
   ]
  },
  {
   "cell_type": "code",
   "execution_count": 106,
   "metadata": {},
   "outputs": [],
   "source": [
    "from torch import nn\n",
    "ninp = emsize\n",
    "encoder = nn.Embedding(ntokens, ninp)\n"
   ]
  },
  {
   "cell_type": "code",
   "execution_count": 107,
   "metadata": {},
   "outputs": [],
   "source": [
    "def generate_square_subsequent_mask(sz):\n",
    "    mask = (torch.triu(torch.ones(sz, sz)) == 1).transpose(0, 1)\n",
    "    mask = mask.float().masked_fill(mask == 0, float('-inf')).masked_fill(mask == 1, float(0.0))\n",
    "    return mask"
   ]
  },
  {
   "cell_type": "code",
   "execution_count": 108,
   "metadata": {},
   "outputs": [],
   "source": [
    "src_mask = generate_square_subsequent_mask(bptt)"
   ]
  },
  {
   "cell_type": "code",
   "execution_count": 110,
   "metadata": {},
   "outputs": [],
   "source": [
    "import math "
   ]
  },
  {
   "cell_type": "code",
   "execution_count": 111,
   "metadata": {},
   "outputs": [],
   "source": [
    "class PositionalEncoding(nn.Module):\n",
    "    \n",
    "    def __init__(self, d_model, dropout=0.1, max_len=5000):\n",
    "        super(PositionalEncoding, self).__init__()\n",
    "        self.dropout = nn.Dropout(p=dropout)\n",
    "\n",
    "        pe = torch.zeros(max_len, d_model)\n",
    "        position = torch.arange(0, max_len, dtype=torch.float).unsqueeze(1)\n",
    "        div_term = torch.exp(torch.arange(0, d_model, 2).float() * (-math.log(10000.0) / d_model))\n",
    "        pe[:, 0::2] = torch.sin(position * div_term)\n",
    "        pe[:, 1::2] = torch.cos(position * div_term)\n",
    "        pe = pe.unsqueeze(0).transpose(0, 1)\n",
    "        self.register_buffer('pe', pe)\n",
    "\n",
    "    def forward(self, x):\n",
    "        x = x + self.pe[:x.size(0), :]\n",
    "        return self.dropout(x)\n"
   ]
  },
  {
   "cell_type": "code",
   "execution_count": 112,
   "metadata": {},
   "outputs": [],
   "source": [
    "from transformer_basic import TransformerEncoderLayer , TransformerDecoderLayer\n",
    "from torch import Tensor\n",
    "class TransformerEncoder(nn.Module):\n",
    "    def __init__(\n",
    "        self, \n",
    "        num_layers: int = 6,\n",
    "        dim_model: int = 512, \n",
    "        num_heads: int = 8, \n",
    "        dim_feedforward: int = 2048, \n",
    "        dropout: float = 0.1, \n",
    "    ):\n",
    "        super().__init__()\n",
    "        self.layers = nn.ModuleList([\n",
    "            TransformerEncoderLayer(dim_model, num_heads, dim_feedforward, dropout)\n",
    "            for _ in range(num_layers)\n",
    "        ])\n",
    "\n",
    "    def forward(self, src: Tensor) -> Tensor:\n",
    "        for layer in self.layers:\n",
    "            src = layer(src)\n",
    "        return src\n",
    "\n",
    "class TransformerDecoder(nn.Module):\n",
    "    def __init__(\n",
    "        self, \n",
    "        num_layers: int = 6,\n",
    "        dim_model: int = 512, \n",
    "        num_heads: int = 8, \n",
    "        dim_feedforward: int = 2048, \n",
    "        dropout: float = 0.1, \n",
    "    ):\n",
    "        super().__init__()\n",
    "        self.layers = nn.ModuleList([\n",
    "            TransformerDecoderLayer(dim_model, num_heads, dim_feedforward, dropout)\n",
    "            for _ in range(num_layers)\n",
    "        ])\n",
    "        self.linear = nn.Linear(dim_model, dim_model)\n",
    "\n",
    "    def forward(self, tgt: Tensor, memory: Tensor) -> Tensor:\n",
    "        for layer in self.layers:\n",
    "            tgt = layer(tgt, memory)\n",
    "        return torch.softmax(self.linear(tgt), dim=-1)"
   ]
  },
  {
   "cell_type": "code",
   "execution_count": 113,
   "metadata": {},
   "outputs": [],
   "source": [
    "pos_encoder = PositionalEncoding(ninp, dropout)\n",
    "transformer_encoder  = TransformerEncoder(num_layers=6,dim_model=ninp,dropout=dropout)\n",
    "transformer_decoder  = TransformerDecoder(num_layers=6,dim_model=ninp,dropout=dropout)"
   ]
  },
  {
   "cell_type": "code",
   "execution_count": 119,
   "metadata": {},
   "outputs": [
    {
     "output_type": "stream",
     "name": "stdout",
     "text": [
      "torch.Size([35, 20]) torch.Size([35, 20])\ntorch.Size([35, 20, 200])\n"
     ]
    }
   ],
   "source": [
    "data, targets = get_batch(train_data, bptt_list[0]) ## question\n",
    "print(data.shape,targets.shape)\n",
    "src = encoder(data) * math.sqrt(ninp) ## question\n",
    "print(src.shape)\n",
    "src = pos_encoder(src)\n",
    "enc_output = transformer_encoder(src)"
   ]
  },
  {
   "cell_type": "code",
   "execution_count": 116,
   "metadata": {},
   "outputs": [],
   "source": [
    "tgt = encoder(targets) * math.sqrt(ninp) ## question\n",
    "tgt = pos_encoder(tgt)"
   ]
  },
  {
   "cell_type": "code",
   "execution_count": 118,
   "metadata": {},
   "outputs": [
    {
     "output_type": "execute_result",
     "data": {
      "text/plain": [
       "tensor([[[0.0061, 0.0039, 0.0072,  ..., 0.0050, 0.0021, 0.0060],\n",
       "         [0.0065, 0.0061, 0.0082,  ..., 0.0020, 0.0039, 0.0012],\n",
       "         [0.0028, 0.0049, 0.0025,  ..., 0.0143, 0.0021, 0.0044],\n",
       "         ...,\n",
       "         [0.0051, 0.0043, 0.0042,  ..., 0.0053, 0.0028, 0.0036],\n",
       "         [0.0023, 0.0083, 0.0037,  ..., 0.0086, 0.0025, 0.0014],\n",
       "         [0.0019, 0.0047, 0.0041,  ..., 0.0059, 0.0074, 0.0022]],\n",
       "\n",
       "        [[0.0057, 0.0027, 0.0045,  ..., 0.0047, 0.0110, 0.0028],\n",
       "         [0.0032, 0.0016, 0.0107,  ..., 0.0034, 0.0029, 0.0036],\n",
       "         [0.0015, 0.0042, 0.0060,  ..., 0.0072, 0.0036, 0.0021],\n",
       "         ...,\n",
       "         [0.0029, 0.0038, 0.0029,  ..., 0.0014, 0.0099, 0.0033],\n",
       "         [0.0031, 0.0039, 0.0033,  ..., 0.0177, 0.0068, 0.0033],\n",
       "         [0.0032, 0.0029, 0.0046,  ..., 0.0051, 0.0059, 0.0011]],\n",
       "\n",
       "        [[0.0017, 0.0026, 0.0067,  ..., 0.0024, 0.0031, 0.0100],\n",
       "         [0.0036, 0.0050, 0.0111,  ..., 0.0014, 0.0046, 0.0056],\n",
       "         [0.0013, 0.0028, 0.0022,  ..., 0.0048, 0.0046, 0.0026],\n",
       "         ...,\n",
       "         [0.0013, 0.0071, 0.0025,  ..., 0.0070, 0.0071, 0.0025],\n",
       "         [0.0037, 0.0041, 0.0096,  ..., 0.0016, 0.0060, 0.0016],\n",
       "         [0.0029, 0.0074, 0.0026,  ..., 0.0028, 0.0034, 0.0071]],\n",
       "\n",
       "        ...,\n",
       "\n",
       "        [[0.0042, 0.0038, 0.0080,  ..., 0.0042, 0.0032, 0.0028],\n",
       "         [0.0027, 0.0069, 0.0034,  ..., 0.0019, 0.0179, 0.0034],\n",
       "         [0.0068, 0.0052, 0.0045,  ..., 0.0035, 0.0018, 0.0016],\n",
       "         ...,\n",
       "         [0.0030, 0.0072, 0.0077,  ..., 0.0047, 0.0026, 0.0018],\n",
       "         [0.0033, 0.0133, 0.0027,  ..., 0.0018, 0.0088, 0.0018],\n",
       "         [0.0034, 0.0036, 0.0028,  ..., 0.0018, 0.0056, 0.0015]],\n",
       "\n",
       "        [[0.0083, 0.0022, 0.0039,  ..., 0.0034, 0.0040, 0.0023],\n",
       "         [0.0046, 0.0031, 0.0053,  ..., 0.0082, 0.0056, 0.0005],\n",
       "         [0.0036, 0.0016, 0.0052,  ..., 0.0115, 0.0031, 0.0005],\n",
       "         ...,\n",
       "         [0.0035, 0.0037, 0.0027,  ..., 0.0060, 0.0053, 0.0027],\n",
       "         [0.0045, 0.0046, 0.0034,  ..., 0.0045, 0.0057, 0.0031],\n",
       "         [0.0065, 0.0028, 0.0039,  ..., 0.0033, 0.0037, 0.0010]],\n",
       "\n",
       "        [[0.0052, 0.0022, 0.0064,  ..., 0.0022, 0.0031, 0.0035],\n",
       "         [0.0038, 0.0034, 0.0106,  ..., 0.0091, 0.0140, 0.0019],\n",
       "         [0.0100, 0.0022, 0.0070,  ..., 0.0048, 0.0072, 0.0020],\n",
       "         ...,\n",
       "         [0.0077, 0.0035, 0.0054,  ..., 0.0040, 0.0068, 0.0026],\n",
       "         [0.0053, 0.0065, 0.0089,  ..., 0.0051, 0.0095, 0.0018],\n",
       "         [0.0071, 0.0024, 0.0063,  ..., 0.0050, 0.0067, 0.0029]]],\n",
       "       grad_fn=<SoftmaxBackward>)"
      ]
     },
     "metadata": {},
     "execution_count": 118
    }
   ],
   "source": [
    "transformer_decoder(tgt , enc_output)"
   ]
  },
  {
   "source": [
    "## 질문 (21/06/21)\n",
    "* 왜 ninp를 임베딩 후에 곱해주는 지?\n",
    "    * https://arxiv.org/pdf/1706.03762.pdf 참고 했다고 함. \n",
    "    * [reference]](https://discuss.pytorch.org/t/pytorch-transformers/76993)\n",
    "    * scaling factor 같은 역할 논문 4pg 참고 \n",
    "    \n",
    "* 실제 코드에서는 attention에 src_mask라는 개념이 있음. 역할이 무엇인지 궁금함\n",
    "    * [stackoverflow](https://stackoverflow.com/questions/62170439/difference-between-src-mask-and-src-key-padding-mask)\n",
    "    * mask 2가지 종류 있음.\n",
    "        * attn_mask – 2D or 3D mask that prevents attention to certain positions.\n",
    "        * key_padding_mask – if provided, specified padding elements in the key will be ignored by the attention.\n",
    "    * [medium](https://medium.com/analytics-vidhya/masking-in-transformers-self-attention-mechanism-bad3c9ec235c)\n",
    "        * Masking is needed to prevent the attention mechanism of a transformer from “cheating” in the decoder when training \n",
    "    * 요약\n",
    "        * attn_mask and key_padding_mask is used in Encoder's MultiheadAttention and Decoder's Masked MultiheadAttention.\n",
    "        * memory_mask  is used in Decoder's MultiheadAttention mechanism as pointed out here.\n",
    "        \n",
    "    * 예제\n",
    "        * I Love it이라고 할 때, 우리가 원하는 것은 I라는 것이 나올 때 Love를 것을 예측하고 싶은 것이고, I Love가 나올 때 It이라는 것을 예측하고 싶은 것임\n",
    "        * 이전 토큰을 모두 사용하여 예측할 때주의 메커니즘이 다음 위치에서 토큰에 관한 정보를 공유하는 것을 원하지 않기 위해서 mask를 사용함\n",
    "\n",
    "* PositionalEncoding을 저렇게 구현하는 이유 궁금\n",
    "    * 해당 글에서도 나와 같은 의문을 가지고 있어서 정리한 글[참고]](https://kazemnejad.com/blog/transformer_architecture_positional_encoding/)\n",
    "    * 언어에서 위체에 대한 정보는 중요한데, 이것은 transformer architecture가 되면서 이러한 정보를 가질 수가 없게 되었다. \n",
    "        * 기존 구조만으로는 위치/순서가 의미가 없어짐 \n",
    "        * 단어의 순서를 표현할 수 있느 것이 필요함.\n",
    "    * 그래서 그것의 위치에 대한 정보를 각 단어에 추가하는 것이다. 우리는 이것을 위치 인코딩인 \"piece of information\"라고 부른다.\n",
    "    * 초기 아이디어 1\n",
    "        * range를 주고 숫자 정보를 줌 [0~1]\n",
    "            * 소개할 문제 중 하나는 특정 범위 내에서 얼마나 많은 단어가 존재하는지 알 수 없다는 것입니다. 다시 말해서, 시간 단계 델타는 서로 다른 문장들에 걸쳐 일관된 의미를 가지고 있지 않다.\n",
    "    * 초기 아이디어 2 \n",
    "        * 각각의 타입 스탭에 선형적으로 수자를 할당하는 방법 \n",
    "            * 첫번째 단어 1 / 두번쨰 단어 2 \n",
    "        * 값이 커질뿐만 아니라 학습된 것보다 더 긴 문장에서 문제가 발생함.(일반화 어려움)\n",
    "    * 그래서 다음을 만족해야 함\n",
    "        * It should output a unique encoding for each time-step (word’s position in a sentence)\n",
    "        * Distance between any two time-steps should be consistent across sentences with different lengths.\n",
    "        * Our model should generalize to longer sentences without any efforts. Its values should be bounded.\n",
    "        * It must be deterministic.\n",
    "\n",
    "* BPTT를 하는 이유는 알았는데, 꼭 필요한 사항인건지 궁금"
   ],
   "cell_type": "markdown",
   "metadata": {}
  },
  {
   "cell_type": "code",
   "execution_count": 73,
   "metadata": {},
   "outputs": [],
   "source": []
  },
  {
   "cell_type": "code",
   "execution_count": null,
   "metadata": {},
   "outputs": [],
   "source": []
  }
 ]
}