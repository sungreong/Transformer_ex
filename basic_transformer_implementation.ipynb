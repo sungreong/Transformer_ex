{
 "metadata": {
  "language_info": {
   "codemirror_mode": {
    "name": "ipython",
    "version": 3
   },
   "file_extension": ".py",
   "mimetype": "text/x-python",
   "name": "python",
   "nbconvert_exporter": "python",
   "pygments_lexer": "ipython3",
   "version": "3.8.8"
  },
  "orig_nbformat": 4,
  "kernelspec": {
   "name": "python3",
   "display_name": "Python 3.8.8 64-bit ('test': conda)"
  },
  "interpreter": {
   "hash": "d3773b654528d79880d3e2b33a682f0f55f4d8370c8ead39985baabf4eb4f1db"
  }
 },
 "nbformat": 4,
 "nbformat_minor": 2,
 "cells": [
  {
   "source": [
    "# Attention Mechanisms \n",
    "\n",
    "* scale dot-product attention \n",
    "\n",
    "$Attention(Q,K,V)=softmax(\\frac{QK^T}{\\sqrt(d_k)})V$\n",
    "\n",
    "## Query, Key Value shape\n",
    "\n",
    "* (batch_size, sequence_length, num_features)\n"
   ],
   "cell_type": "markdown",
   "metadata": {}
  },
  {
   "cell_type": "code",
   "execution_count": 2,
   "metadata": {},
   "outputs": [],
   "source": [
    "from torch import Tensor\n",
    "import torch.nn.functional as f\n",
    "\n",
    "def scaled_dot_product_attention(query: Tensor, key: Tensor, value: Tensor) -> Tensor:\n",
    "    temp = query.bmm(key.transpose(1, 2))\n",
    "    scale = query.size(-1) ** 0.5\n",
    "    softmax = f.softmax(temp / scale, dim=-1)\n",
    "    return softmax.bmm(value)"
   ]
  },
  {
   "cell_type": "code",
   "execution_count": 3,
   "metadata": {},
   "outputs": [],
   "source": [
    "\n",
    "import torch\n",
    "from torch import nn\n",
    "\n",
    "\n",
    "class AttentionHead(nn.Module):\n",
    "    def __init__(self, dim_in: int, dim_k: int, dim_v: int):\n",
    "        super().__init__()\n",
    "        self.q = nn.Linear(dim_in, dim_k)\n",
    "        self.k = nn.Linear(dim_in, dim_k)\n",
    "        self.v = nn.Linear(dim_in, dim_v)\n",
    "\n",
    "    def forward(self, query: Tensor, key: Tensor, value: Tensor) -> Tensor:\n",
    "        return scaled_dot_product_attention(self.q(query), self.k(key), self.v(value))"
   ]
  },
  {
   "cell_type": "code",
   "execution_count": 4,
   "metadata": {},
   "outputs": [],
   "source": [
    "class MultiHeadAttention(nn.Module):\n",
    "    def __init__(self, num_heads: int, dim_in: int, dim_k: int, dim_v: int):\n",
    "        super().__init__()\n",
    "        self.heads = nn.ModuleList(\n",
    "            [AttentionHead(dim_in, dim_k, dim_v) for _ in range(num_heads)]\n",
    "        )\n",
    "        self.linear = nn.Linear(num_heads * dim_v, dim_in)\n",
    "\n",
    "    def forward(self, query: Tensor, key: Tensor, value: Tensor) -> Tensor:\n",
    "        return self.linear(\n",
    "            torch.cat([h(query, key, value) for h in self.heads], dim=-1)\n",
    "        )"
   ]
  },
  {
   "source": [
    "# Positional Encoding [애매함]\n",
    "\n",
    "삼각 함수(trigonometric function)를 사용하여 positional information을 encode하다 \n",
    "\n",
    "$PE_{(pos,2i)}=sin(pos/10000^{\\frac{2i}{d_{model}}}$\n",
    "\n",
    "$PE_{(pos,2i+1)}=cos(pos/10000^{\\frac{2i}{d_{model}}}$"
   ],
   "cell_type": "markdown",
   "metadata": {}
  },
  {
   "cell_type": "code",
   "execution_count": 5,
   "metadata": {},
   "outputs": [],
   "source": [
    "def position_encoding(\n",
    "    seq_len: int, dim_model: int, device: torch.device = torch.device(\"cpu\"),\n",
    ") -> Tensor:\n",
    "    pos = torch.arange(seq_len, dtype=torch.float, device=device).reshape(1, -1, 1)\n",
    "    dim = torch.arange(dim_model, dtype=torch.float, device=device).reshape(1, 1, -1)\n",
    "    phase = pos / 1e4 ** (dim // dim_model)\n",
    "\n",
    "    return torch.where(dim.long() % 2 == 0, torch.sin(phase), torch.cos(phase))"
   ]
  },
  {
   "cell_type": "code",
   "execution_count": null,
   "metadata": {},
   "outputs": [],
   "source": []
  },
  {
   "cell_type": "code",
   "execution_count": 6,
   "metadata": {},
   "outputs": [],
   "source": [
    "def feed_forward(dim_input: int = 512, dim_feedforward: int = 2048) -> nn.Module:\n",
    "    return nn.Sequential(\n",
    "        nn.Linear(dim_input, dim_feedforward),\n",
    "        nn.ReLU(),\n",
    "        nn.Linear(dim_feedforward, dim_input),\n",
    "    )"
   ]
  },
  {
   "source": [
    "The output of each sub-layer is LayerNorm(x + Sublayer(x)), where Sublayer(x) is the function implemented by the sub-layer itself"
   ],
   "cell_type": "markdown",
   "metadata": {}
  },
  {
   "cell_type": "code",
   "execution_count": 7,
   "metadata": {},
   "outputs": [],
   "source": [
    "class Residual(nn.Module):\n",
    "    def __init__(self, sublayer: nn.Module, dimension: int, dropout: float = 0.1):\n",
    "        super().__init__()\n",
    "        self.sublayer = sublayer\n",
    "        self.norm = nn.LayerNorm(dimension)\n",
    "        self.dropout = nn.Dropout(dropout)\n",
    "\n",
    "    def forward(self, *tensors: Tensor) -> Tensor:\n",
    "        # Assume that the \"value\" tensor is given last, so we can compute the\n",
    "        # residual.  This matches the signature of 'MultiHeadAttention'.\n",
    "        return self.norm(tensors[-1] + self.dropout(self.sublayer(*tensors)))"
   ]
  },
  {
   "cell_type": "code",
   "execution_count": 8,
   "metadata": {},
   "outputs": [],
   "source": [
    "class TransformerEncoderLayer(nn.Module):\n",
    "    def __init__(\n",
    "        self, \n",
    "        dim_model: int = 512, \n",
    "        num_heads: int = 6, \n",
    "        dim_feedforward: int = 2048, \n",
    "        dropout: float = 0.1, \n",
    "    ):\n",
    "        super().__init__()\n",
    "        dim_k = dim_v = dim_model // num_heads\n",
    "        self.attention = Residual(\n",
    "            MultiHeadAttention(num_heads, dim_model, dim_k, dim_v),\n",
    "            dimension=dim_model,\n",
    "            dropout=dropout,\n",
    "        )\n",
    "        self.feed_forward = Residual(\n",
    "            feed_forward(dim_model, dim_feedforward),\n",
    "            dimension=dim_model,\n",
    "            dropout=dropout,\n",
    "        )\n",
    "\n",
    "    def forward(self, src: Tensor) -> Tensor:\n",
    "        src = self.attention(src, src, src)\n",
    "        return self.feed_forward(src)\n",
    "\n",
    "\n",
    "class TransformerEncoder(nn.Module):\n",
    "    def __init__(\n",
    "        self, \n",
    "        num_layers: int = 6,\n",
    "        dim_model: int = 512, \n",
    "        num_heads: int = 8, \n",
    "        dim_feedforward: int = 2048, \n",
    "        dropout: float = 0.1, \n",
    "    ):\n",
    "        super().__init__()\n",
    "        self.layers = nn.ModuleList([\n",
    "            TransformerEncoderLayer(dim_model, num_heads, dim_feedforward, dropout)\n",
    "            for _ in range(num_layers)\n",
    "        ])\n",
    "\n",
    "    def forward(self, src: Tensor) -> Tensor:\n",
    "        seq_len, dimension = src.size(1), src.size(2)\n",
    "        src += position_encoding(seq_len, dimension)\n",
    "        for layer in self.layers:\n",
    "            src = layer(src)\n",
    "\n",
    "        return src"
   ]
  },
  {
   "cell_type": "code",
   "execution_count": 9,
   "metadata": {},
   "outputs": [],
   "source": [
    "class TransformerDecoderLayer(nn.Module):\n",
    "    def __init__(\n",
    "        self, \n",
    "        dim_model: int = 512, \n",
    "        num_heads: int = 6, \n",
    "        dim_feedforward: int = 2048, \n",
    "        dropout: float = 0.1, \n",
    "    ):\n",
    "        super().__init__()\n",
    "        dim_k = dim_v = dim_model // num_heads\n",
    "        self.attention_1 = Residual(\n",
    "            MultiHeadAttention(num_heads, dim_model, dim_k, dim_v),\n",
    "            dimension=dim_model,\n",
    "            dropout=dropout,\n",
    "        )\n",
    "        self.attention_2 = Residual(\n",
    "            MultiHeadAttention(num_heads, dim_model, dim_k, dim_v),\n",
    "            dimension=dim_model,\n",
    "            dropout=dropout,\n",
    "        )\n",
    "        self.feed_forward = Residual(\n",
    "            feed_forward(dim_model, dim_feedforward),\n",
    "            dimension=dim_model,\n",
    "            dropout=dropout,\n",
    "        )\n",
    "\n",
    "    def forward(self, tgt: Tensor, memory: Tensor) -> Tensor:\n",
    "        tgt = self.attention_1(tgt, tgt, tgt)\n",
    "        tgt = self.attention_2(memory, memory, tgt)\n",
    "        return self.feed_forward(tgt)\n"
   ]
  },
  {
   "cell_type": "code",
   "execution_count": 10,
   "metadata": {},
   "outputs": [],
   "source": [
    "class TransformerDecoder(nn.Module):\n",
    "    def __init__(\n",
    "        self, \n",
    "        num_layers: int = 6,\n",
    "        dim_model: int = 512, \n",
    "        num_heads: int = 8, \n",
    "        dim_feedforward: int = 2048, \n",
    "        dropout: float = 0.1, \n",
    "    ):\n",
    "        super().__init__()\n",
    "        self.layers = nn.ModuleList([\n",
    "            TransformerDecoderLayer(dim_model, num_heads, dim_feedforward, dropout)\n",
    "            for _ in range(num_layers)\n",
    "        ])\n",
    "        self.linear = nn.Linear(dim_model, dim_model)\n",
    "\n",
    "    def forward(self, tgt: Tensor, memory: Tensor) -> Tensor:\n",
    "        seq_len, dimension = tgt.size(1), tgt.size(2)\n",
    "        tgt += position_encoding(seq_len, dimension)\n",
    "        for layer in self.layers:\n",
    "            tgt = layer(tgt, memory)\n",
    "\n",
    "        return torch.softmax(self.linear(tgt), dim=-1)"
   ]
  },
  {
   "cell_type": "code",
   "execution_count": 11,
   "metadata": {},
   "outputs": [],
   "source": [
    "\n",
    "class Transformer(nn.Module):\n",
    "    def __init__(\n",
    "        self, \n",
    "        num_encoder_layers: int = 6,\n",
    "        num_decoder_layers: int = 6,\n",
    "        dim_model: int = 512, \n",
    "        num_heads: int = 6, \n",
    "        dim_feedforward: int = 2048, \n",
    "        dropout: float = 0.1, \n",
    "        activation: nn.Module = nn.ReLU(),\n",
    "    ):\n",
    "        super().__init__()\n",
    "        self.encoder = TransformerEncoder(\n",
    "            num_layers=num_encoder_layers,\n",
    "            dim_model=dim_model,\n",
    "            num_heads=num_heads,\n",
    "            dim_feedforward=dim_feedforward,\n",
    "            dropout=dropout,\n",
    "        )\n",
    "        self.decoder = TransformerDecoder(\n",
    "            num_layers=num_decoder_layers,\n",
    "            dim_model=dim_model,\n",
    "            num_heads=num_heads,\n",
    "            dim_feedforward=dim_feedforward,\n",
    "            dropout=dropout,\n",
    "        )\n",
    "\n",
    "    def forward(self, src: Tensor, tgt: Tensor) -> Tensor:\n",
    "        return self.decoder(tgt, self.encoder(src))"
   ]
  },
  {
   "cell_type": "code",
   "execution_count": 12,
   "metadata": {},
   "outputs": [
    {
     "output_type": "stream",
     "name": "stdout",
     "text": [
      "torch.Size([64, 16, 512])\n"
     ]
    }
   ],
   "source": [
    "src = torch.rand(64, 16, 512)\n",
    "tgt = torch.rand(64, 16, 512)\n",
    "out = Transformer()(src, tgt)\n",
    "print(out.shape)\n",
    "# torch.Size([64, 16, 512])"
   ]
  },
  {
   "cell_type": "code",
   "execution_count": 13,
   "metadata": {},
   "outputs": [
    {
     "output_type": "execute_result",
     "data": {
      "text/plain": [
       "tensor([[[0.0009, 0.0011, 0.0014,  ..., 0.0008, 0.0022, 0.0034],\n",
       "         [0.0013, 0.0009, 0.0029,  ..., 0.0010, 0.0008, 0.0010],\n",
       "         [0.0015, 0.0016, 0.0024,  ..., 0.0008, 0.0006, 0.0012],\n",
       "         ...,\n",
       "         [0.0010, 0.0009, 0.0022,  ..., 0.0007, 0.0020, 0.0022],\n",
       "         [0.0011, 0.0014, 0.0019,  ..., 0.0012, 0.0007, 0.0016],\n",
       "         [0.0016, 0.0017, 0.0020,  ..., 0.0011, 0.0006, 0.0008]],\n",
       "\n",
       "        [[0.0015, 0.0011, 0.0014,  ..., 0.0007, 0.0010, 0.0044],\n",
       "         [0.0018, 0.0009, 0.0020,  ..., 0.0012, 0.0012, 0.0022],\n",
       "         [0.0020, 0.0018, 0.0022,  ..., 0.0007, 0.0004, 0.0008],\n",
       "         ...,\n",
       "         [0.0009, 0.0008, 0.0030,  ..., 0.0007, 0.0010, 0.0035],\n",
       "         [0.0017, 0.0016, 0.0015,  ..., 0.0010, 0.0006, 0.0013],\n",
       "         [0.0028, 0.0012, 0.0016,  ..., 0.0009, 0.0005, 0.0014]],\n",
       "\n",
       "        [[0.0012, 0.0020, 0.0024,  ..., 0.0014, 0.0024, 0.0021],\n",
       "         [0.0027, 0.0005, 0.0010,  ..., 0.0008, 0.0005, 0.0009],\n",
       "         [0.0031, 0.0013, 0.0020,  ..., 0.0009, 0.0005, 0.0013],\n",
       "         ...,\n",
       "         [0.0016, 0.0005, 0.0014,  ..., 0.0015, 0.0011, 0.0016],\n",
       "         [0.0029, 0.0018, 0.0013,  ..., 0.0013, 0.0005, 0.0007],\n",
       "         [0.0029, 0.0015, 0.0011,  ..., 0.0015, 0.0004, 0.0007]],\n",
       "\n",
       "        ...,\n",
       "\n",
       "        [[0.0008, 0.0009, 0.0021,  ..., 0.0012, 0.0025, 0.0051],\n",
       "         [0.0041, 0.0006, 0.0015,  ..., 0.0018, 0.0009, 0.0006],\n",
       "         [0.0021, 0.0018, 0.0021,  ..., 0.0014, 0.0007, 0.0010],\n",
       "         ...,\n",
       "         [0.0012, 0.0011, 0.0016,  ..., 0.0031, 0.0016, 0.0022],\n",
       "         [0.0031, 0.0011, 0.0021,  ..., 0.0011, 0.0004, 0.0008],\n",
       "         [0.0023, 0.0012, 0.0020,  ..., 0.0012, 0.0005, 0.0006]],\n",
       "\n",
       "        [[0.0012, 0.0010, 0.0016,  ..., 0.0018, 0.0022, 0.0021],\n",
       "         [0.0024, 0.0012, 0.0013,  ..., 0.0013, 0.0008, 0.0013],\n",
       "         [0.0016, 0.0014, 0.0018,  ..., 0.0008, 0.0006, 0.0011],\n",
       "         ...,\n",
       "         [0.0011, 0.0008, 0.0008,  ..., 0.0008, 0.0037, 0.0018],\n",
       "         [0.0014, 0.0012, 0.0016,  ..., 0.0018, 0.0009, 0.0015],\n",
       "         [0.0017, 0.0009, 0.0023,  ..., 0.0010, 0.0007, 0.0006]],\n",
       "\n",
       "        [[0.0012, 0.0010, 0.0022,  ..., 0.0010, 0.0028, 0.0024],\n",
       "         [0.0023, 0.0006, 0.0017,  ..., 0.0005, 0.0013, 0.0013],\n",
       "         [0.0025, 0.0019, 0.0014,  ..., 0.0010, 0.0007, 0.0012],\n",
       "         ...,\n",
       "         [0.0016, 0.0008, 0.0024,  ..., 0.0016, 0.0016, 0.0020],\n",
       "         [0.0030, 0.0020, 0.0012,  ..., 0.0010, 0.0007, 0.0005],\n",
       "         [0.0020, 0.0012, 0.0019,  ..., 0.0012, 0.0006, 0.0010]]],\n",
       "       grad_fn=<SoftmaxBackward>)"
      ]
     },
     "metadata": {},
     "execution_count": 13
    }
   ],
   "source": [
    "out"
   ]
  },
  {
   "cell_type": "code",
   "execution_count": null,
   "metadata": {},
   "outputs": [],
   "source": []
  }
 ]
}